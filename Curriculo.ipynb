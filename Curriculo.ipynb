{
 "cells": [
  {
   "cell_type": "code",
   "execution_count": 7,
   "id": "6f95b784",
   "metadata": {},
   "outputs": [],
   "source": [
    "import pyautogui as pya\n",
    "import time\n",
    "import pyperclip as pyper\n",
    "\n",
    "pya.PAUSE = 1\n",
    "\n",
    "# Abrir o email\n",
    "pya.hotkey(\"ctrl\", \"t\")\n",
    "pyper.copy(\"https://mail.google.com/mail/u/1/?ogbl#inbox\")\n",
    "pya.hotkey(\"ctrl\", \"v\")\n",
    "pya.press(\"enter\")\n",
    "time.sleep(3)\n",
    "\n",
    "#Abrir aba de envio e preenchimento dos dados\n",
    "pya.click(x=89, y=197)\n",
    "pya.write(\"Email do destino\")\n",
    "pya.press(\"tab\")\n",
    "pya.press(\"tab\")\n",
    "pya.write(\"Assunto\")\n",
    "time.sleep(3)\n",
    "pya.press(\"tab\")\n",
    "texto = \"\"\"\n",
    "Digite um texto formatando\n",
    "\"\"\"\n",
    "pyper.copy(texto)\n",
    "pya.hotkey(\"ctrl\", \"v\")\n",
    "pya.hotkey()\n",
    "\n"
   ]
  },
  {
   "cell_type": "code",
   "execution_count": 5,
   "id": "6173135d",
   "metadata": {},
   "outputs": [
    {
     "data": {
      "text/plain": [
       "Point(x=89, y=197)"
      ]
     },
     "execution_count": 5,
     "metadata": {},
     "output_type": "execute_result"
    }
   ],
   "source": [
    "time.sleep(5)\n",
    "pya.position()"
   ]
  },
  {
   "cell_type": "code",
   "execution_count": null,
   "id": "66362bd3",
   "metadata": {},
   "outputs": [],
   "source": []
  }
 ],
 "metadata": {
  "kernelspec": {
   "display_name": "Python 3 (ipykernel)",
   "language": "python",
   "name": "python3"
  },
  "language_info": {
   "codemirror_mode": {
    "name": "ipython",
    "version": 3
   },
   "file_extension": ".py",
   "mimetype": "text/x-python",
   "name": "python",
   "nbconvert_exporter": "python",
   "pygments_lexer": "ipython3",
   "version": "3.9.12"
  }
 },
 "nbformat": 4,
 "nbformat_minor": 5
}
